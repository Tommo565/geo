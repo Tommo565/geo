{
 "cells": [
  {
   "cell_type": "code",
   "execution_count": 3,
   "metadata": {},
   "outputs": [],
   "source": [
    "import geopandas as gpd\n",
    "import pandas as pd"
   ]
  },
  {
   "cell_type": "code",
   "execution_count": 4,
   "metadata": {},
   "outputs": [
    {
     "data": {
      "text/html": [
       "<style>.container { width:100% !important; }</style>"
      ],
      "text/plain": [
       "<IPython.core.display.HTML object>"
      ]
     },
     "metadata": {},
     "output_type": "display_data"
    }
   ],
   "source": [
    "from IPython.core.display import display, HTML\n",
    "display(HTML(\"<style>.container { width:100% !important; }</style>\"))\n",
    "pd.set_option('display.float_format', lambda x: '%.3f' % x)\n",
    "pd.set_option('display.max_rows', 500)\n",
    "pd.set_option('display.max_columns', 500)\n",
    "pd.set_option('display.width', 1000)"
   ]
  },
  {
   "cell_type": "markdown",
   "metadata": {},
   "source": [
    "#### BNG to WGS84"
   ]
  },
  {
   "cell_type": "code",
   "execution_count": 5,
   "metadata": {},
   "outputs": [],
   "source": [
    "from shapely.geometry import Point, Polygon, MultiPoint, MultiLineString\n",
    "from functools import partial\n",
    "import pyproj\n",
    "from shapely.ops import transform\n",
    "\n",
    "def swap_xy(geom):\n",
    "    \"\"\"Swaps the x & y coordinates of a geometry column\"\"\"\n",
    "    \n",
    "    if geom.is_empty:\n",
    "        return geom\n",
    "\n",
    "    if geom.has_z:\n",
    "        def swap_xy_coords(coords):\n",
    "            for x, y, z in coords:\n",
    "                yield (y, x, z)\n",
    "    else:\n",
    "        def swap_xy_coords(coords):\n",
    "            for x, y in coords:\n",
    "                yield (y, x)\n",
    "\n",
    "    # Process coordinates from each supported geometry type\n",
    "    if geom.type in ('Point', 'LineString', 'LinearRing'):\n",
    "        return type(geom)(list(swap_xy_coords(geom.coords)))\n",
    "    \n",
    "    elif geom.type == 'Polygon':\n",
    "        ring = geom.exterior\n",
    "        shell = type(ring)(list(swap_xy_coords(ring.coords)))\n",
    "        holes = list(geom.interiors)\n",
    "        for pos, ring in enumerate(holes):\n",
    "            holes[pos] = type(ring)(list(swap_xy_coords(ring.coords)))\n",
    "        return type(geom)(shell, holes)\n",
    "    \n",
    "    elif geom.type.startswith('Multi') or geom.type == 'GeometryCollection':\n",
    "        # Recursive call\n",
    "        return type(geom)([swap_xy(part) for part in geom.geoms])\n",
    "    \n",
    "    else:\n",
    "        raise ValueError('Type %r not recognized' % geom.type)\n",
    "\n",
    "def transform_to_lon_lat(row):\n",
    "    \n",
    "    project = partial(\n",
    "        pyproj.transform,\n",
    "        pyproj.Proj('epsg:27700'), \n",
    "        pyproj.Proj('epsg:4326')\n",
    "    ) \n",
    "    \n",
    "    return transform(project, row['geometry'])"
   ]
  },
  {
   "cell_type": "markdown",
   "metadata": {},
   "source": [
    "#### Performing the conversion"
   ]
  },
  {
   "cell_type": "code",
   "execution_count": 6,
   "metadata": {},
   "outputs": [],
   "source": [
    "gdf = gpd.read_file('zip://./maps/source_maps/UK_LA.zip')\n",
    "gdf['geometry'] = gdf.apply(transform_to_lon_lat, axis=1)\n",
    "gdf['geometry'] = gdf['geometry'].map(swap_xy)\n",
    "gdf.to_file(\"./maps/hq_maps/UK_LA_LL.json\", driver='GeoJSON')\n",
    "gdf.plot()"
   ]
  }
 ],
 "metadata": {
  "kernelspec": {
   "display_name": "Python 3",
   "language": "python",
   "name": "python3"
  },
  "language_info": {
   "codemirror_mode": {
    "name": "ipython",
    "version": 3
   },
   "file_extension": ".py",
   "mimetype": "text/x-python",
   "name": "python",
   "nbconvert_exporter": "python",
   "pygments_lexer": "ipython3",
   "version": "3.7.6"
  }
 },
 "nbformat": 4,
 "nbformat_minor": 4
}
